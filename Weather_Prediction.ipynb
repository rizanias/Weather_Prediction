{
 "cells": [
  {
   "cell_type": "markdown",
   "metadata": {},
   "source": [
    "## Description\n",
    "\n",
    "    weatherAUS.csv berisi tentang laporan cuaca Australia selama 10 tahun dari 2007 sampai 2017\n",
    "\n",
    "### Objective\n",
    "\n",
    "    Melakukan prediksi cuaca untuk variabel 'RainTomorrow', dimana kita akan memprediksi apakah besok akan hujan atau tidak.\n",
    "\n",
    "    Untuk melakukan prediksi, kita akan menggunakan Algoritma Machine Learning dengan model Logistic Regression dan Support Vector Machine.\n",
    "\n",
    "    Lakukan prediksi cuaca menggunakan random data\n",
    "\n",
    "### Problem Statement\n",
    "\n",
    "    Dataset masih kotor sehingga harus dilakukan pembersihan."
   ]
  },
  {
   "cell_type": "markdown",
   "metadata": {},
   "source": [
    "## Working Area"
   ]
  },
  {
   "cell_type": "markdown",
   "metadata": {},
   "source": [
    "## Import Library"
   ]
  },
  {
   "cell_type": "code",
   "execution_count": 6,
   "metadata": {},
   "outputs": [],
   "source": [
    "import pandas as pd\n",
    "import numpy as np\n",
    "import matplotlib.pyplot as plt\n",
    "import seaborn as sns\n",
    "from scipy import stats\n",
    "from sklearn import preprocessing\n",
    "from sklearn.preprocessing import OneHotEncoder\n",
    "from sklearn.linear_model import LogisticRegression\n",
    "from sklearn.metrics import confusion_matrix\n",
    "from sklearn.metrics import accuracy_score\n",
    "from sklearn.metrics import classification_report\n",
    "from sklearn.model_selection import KFold \n",
    "from sklearn.model_selection import cross_val_score\n",
    "from sklearn.svm import SVC\n",
    "\n",
    "%matplotlib inline\n",
    "\n",
    "\n",
    "import warnings\n",
    "warnings.filterwarnings('ignore')\n",
    "warnings.filterwarnings(action=\"ignore\", message=\"^internal gelsd\")"
   ]
  },
  {
   "cell_type": "markdown",
   "metadata": {},
   "source": [
    "<hr>"
   ]
  },
  {
   "cell_type": "markdown",
   "metadata": {},
   "source": [
    "## Load Dataset"
   ]
  },
  {
   "cell_type": "code",
   "execution_count": 7,
   "metadata": {},
   "outputs": [
    {
     "data": {
      "text/html": [
       "<div>\n",
       "<style scoped>\n",
       "    .dataframe tbody tr th:only-of-type {\n",
       "        vertical-align: middle;\n",
       "    }\n",
       "\n",
       "    .dataframe tbody tr th {\n",
       "        vertical-align: top;\n",
       "    }\n",
       "\n",
       "    .dataframe thead th {\n",
       "        text-align: right;\n",
       "    }\n",
       "</style>\n",
       "<table border=\"1\" class=\"dataframe\">\n",
       "  <thead>\n",
       "    <tr style=\"text-align: right;\">\n",
       "      <th></th>\n",
       "      <th>Date</th>\n",
       "      <th>Location</th>\n",
       "      <th>MinTemp</th>\n",
       "      <th>MaxTemp</th>\n",
       "      <th>Rainfall</th>\n",
       "      <th>Evaporation</th>\n",
       "      <th>Sunshine</th>\n",
       "      <th>WindGustDir</th>\n",
       "      <th>WindGustSpeed</th>\n",
       "      <th>WindDir9am</th>\n",
       "      <th>...</th>\n",
       "      <th>Humidity9am</th>\n",
       "      <th>Humidity3pm</th>\n",
       "      <th>Pressure9am</th>\n",
       "      <th>Pressure3pm</th>\n",
       "      <th>Cloud9am</th>\n",
       "      <th>Cloud3pm</th>\n",
       "      <th>Temp9am</th>\n",
       "      <th>Temp3pm</th>\n",
       "      <th>RainToday</th>\n",
       "      <th>RainTomorrow</th>\n",
       "    </tr>\n",
       "  </thead>\n",
       "  <tbody>\n",
       "    <tr>\n",
       "      <th>0</th>\n",
       "      <td>2008-12-01</td>\n",
       "      <td>Albury</td>\n",
       "      <td>13.4</td>\n",
       "      <td>22.9</td>\n",
       "      <td>0.6</td>\n",
       "      <td>NaN</td>\n",
       "      <td>NaN</td>\n",
       "      <td>W</td>\n",
       "      <td>44.0</td>\n",
       "      <td>W</td>\n",
       "      <td>...</td>\n",
       "      <td>71.0</td>\n",
       "      <td>22.0</td>\n",
       "      <td>1007.7</td>\n",
       "      <td>1007.1</td>\n",
       "      <td>8.0</td>\n",
       "      <td>NaN</td>\n",
       "      <td>16.9</td>\n",
       "      <td>21.8</td>\n",
       "      <td>No</td>\n",
       "      <td>No</td>\n",
       "    </tr>\n",
       "    <tr>\n",
       "      <th>1</th>\n",
       "      <td>2008-12-02</td>\n",
       "      <td>Albury</td>\n",
       "      <td>7.4</td>\n",
       "      <td>25.1</td>\n",
       "      <td>0.0</td>\n",
       "      <td>NaN</td>\n",
       "      <td>NaN</td>\n",
       "      <td>WNW</td>\n",
       "      <td>44.0</td>\n",
       "      <td>NNW</td>\n",
       "      <td>...</td>\n",
       "      <td>44.0</td>\n",
       "      <td>25.0</td>\n",
       "      <td>1010.6</td>\n",
       "      <td>1007.8</td>\n",
       "      <td>NaN</td>\n",
       "      <td>NaN</td>\n",
       "      <td>17.2</td>\n",
       "      <td>24.3</td>\n",
       "      <td>No</td>\n",
       "      <td>No</td>\n",
       "    </tr>\n",
       "    <tr>\n",
       "      <th>2</th>\n",
       "      <td>2008-12-03</td>\n",
       "      <td>Albury</td>\n",
       "      <td>12.9</td>\n",
       "      <td>25.7</td>\n",
       "      <td>0.0</td>\n",
       "      <td>NaN</td>\n",
       "      <td>NaN</td>\n",
       "      <td>WSW</td>\n",
       "      <td>46.0</td>\n",
       "      <td>W</td>\n",
       "      <td>...</td>\n",
       "      <td>38.0</td>\n",
       "      <td>30.0</td>\n",
       "      <td>1007.6</td>\n",
       "      <td>1008.7</td>\n",
       "      <td>NaN</td>\n",
       "      <td>2.0</td>\n",
       "      <td>21.0</td>\n",
       "      <td>23.2</td>\n",
       "      <td>No</td>\n",
       "      <td>No</td>\n",
       "    </tr>\n",
       "    <tr>\n",
       "      <th>3</th>\n",
       "      <td>2008-12-04</td>\n",
       "      <td>Albury</td>\n",
       "      <td>9.2</td>\n",
       "      <td>28.0</td>\n",
       "      <td>0.0</td>\n",
       "      <td>NaN</td>\n",
       "      <td>NaN</td>\n",
       "      <td>NE</td>\n",
       "      <td>24.0</td>\n",
       "      <td>SE</td>\n",
       "      <td>...</td>\n",
       "      <td>45.0</td>\n",
       "      <td>16.0</td>\n",
       "      <td>1017.6</td>\n",
       "      <td>1012.8</td>\n",
       "      <td>NaN</td>\n",
       "      <td>NaN</td>\n",
       "      <td>18.1</td>\n",
       "      <td>26.5</td>\n",
       "      <td>No</td>\n",
       "      <td>No</td>\n",
       "    </tr>\n",
       "    <tr>\n",
       "      <th>4</th>\n",
       "      <td>2008-12-05</td>\n",
       "      <td>Albury</td>\n",
       "      <td>17.5</td>\n",
       "      <td>32.3</td>\n",
       "      <td>1.0</td>\n",
       "      <td>NaN</td>\n",
       "      <td>NaN</td>\n",
       "      <td>W</td>\n",
       "      <td>41.0</td>\n",
       "      <td>ENE</td>\n",
       "      <td>...</td>\n",
       "      <td>82.0</td>\n",
       "      <td>33.0</td>\n",
       "      <td>1010.8</td>\n",
       "      <td>1006.0</td>\n",
       "      <td>7.0</td>\n",
       "      <td>8.0</td>\n",
       "      <td>17.8</td>\n",
       "      <td>29.7</td>\n",
       "      <td>No</td>\n",
       "      <td>No</td>\n",
       "    </tr>\n",
       "  </tbody>\n",
       "</table>\n",
       "<p>5 rows × 23 columns</p>\n",
       "</div>"
      ],
      "text/plain": [
       "         Date Location  MinTemp  MaxTemp  Rainfall  Evaporation  Sunshine  \\\n",
       "0  2008-12-01   Albury     13.4     22.9       0.6          NaN       NaN   \n",
       "1  2008-12-02   Albury      7.4     25.1       0.0          NaN       NaN   \n",
       "2  2008-12-03   Albury     12.9     25.7       0.0          NaN       NaN   \n",
       "3  2008-12-04   Albury      9.2     28.0       0.0          NaN       NaN   \n",
       "4  2008-12-05   Albury     17.5     32.3       1.0          NaN       NaN   \n",
       "\n",
       "  WindGustDir  WindGustSpeed WindDir9am  ... Humidity9am  Humidity3pm  \\\n",
       "0           W           44.0          W  ...        71.0         22.0   \n",
       "1         WNW           44.0        NNW  ...        44.0         25.0   \n",
       "2         WSW           46.0          W  ...        38.0         30.0   \n",
       "3          NE           24.0         SE  ...        45.0         16.0   \n",
       "4           W           41.0        ENE  ...        82.0         33.0   \n",
       "\n",
       "   Pressure9am  Pressure3pm  Cloud9am  Cloud3pm  Temp9am  Temp3pm  RainToday  \\\n",
       "0       1007.7       1007.1       8.0       NaN     16.9     21.8         No   \n",
       "1       1010.6       1007.8       NaN       NaN     17.2     24.3         No   \n",
       "2       1007.6       1008.7       NaN       2.0     21.0     23.2         No   \n",
       "3       1017.6       1012.8       NaN       NaN     18.1     26.5         No   \n",
       "4       1010.8       1006.0       7.0       8.0     17.8     29.7         No   \n",
       "\n",
       "   RainTomorrow  \n",
       "0            No  \n",
       "1            No  \n",
       "2            No  \n",
       "3            No  \n",
       "4            No  \n",
       "\n",
       "[5 rows x 23 columns]"
      ]
     },
     "execution_count": 7,
     "metadata": {},
     "output_type": "execute_result"
    }
   ],
   "source": [
    "data = pd.read_csv(\"weatherAUS.csv\")\n",
    "df = data.copy()\n",
    "df.head()"
   ]
  },
  {
   "cell_type": "markdown",
   "metadata": {},
   "source": [
    "<hr>"
   ]
  },
  {
   "cell_type": "markdown",
   "metadata": {},
   "source": [
    "## Analisis dan visualisasi data"
   ]
  },
  {
   "cell_type": "markdown",
   "metadata": {},
   "source": [
    "- Membagi data seusai tipe data (kategorik atau numerik)"
   ]
  },
  {
   "cell_type": "code",
   "execution_count": 8,
   "metadata": {},
   "outputs": [
    {
     "name": "stdout",
     "output_type": "stream",
     "text": [
      "tipe data kategorik: ['Date', 'Location', 'WindGustDir', 'WindDir9am', 'WindDir3pm', 'RainToday', 'RainTomorrow'] \n",
      "\n",
      "tipe data numerik: ['MinTemp', 'MaxTemp', 'Rainfall', 'Evaporation', 'Sunshine', 'WindGustSpeed', 'WindSpeed9am', 'WindSpeed3pm', 'Humidity9am', 'Humidity3pm', 'Pressure9am', 'Pressure3pm', 'Cloud9am', 'Cloud3pm', 'Temp9am', 'Temp3pm']\n"
     ]
    }
   ],
   "source": [
    "kategorik = [ i for i in df.columns if df[i].dtype =='O']\n",
    "numerik = [i for i in df.columns if df[i].dtype !='O']\n",
    "print('tipe data kategorik:',kategorik, '\\n')\n",
    "print('tipe data numerik:',numerik)"
   ]
  },
  {
   "cell_type": "markdown",
   "metadata": {},
   "source": [
    "cek missing value pada dataset"
   ]
  },
  {
   "cell_type": "code",
   "execution_count": 9,
   "metadata": {},
   "outputs": [
    {
     "data": {
      "text/plain": [
       "Date                0\n",
       "Location            0\n",
       "WindGustDir     10326\n",
       "WindDir9am      10566\n",
       "WindDir3pm       4228\n",
       "RainToday        3261\n",
       "RainTomorrow     3267\n",
       "dtype: int64"
      ]
     },
     "execution_count": 9,
     "metadata": {},
     "output_type": "execute_result"
    }
   ],
   "source": [
    "df[kategorik].isnull().sum()"
   ]
  },
  {
   "cell_type": "code",
   "execution_count": 10,
   "metadata": {},
   "outputs": [
    {
     "data": {
      "text/plain": [
       "MinTemp           1485\n",
       "MaxTemp           1261\n",
       "Rainfall          3261\n",
       "Evaporation      62790\n",
       "Sunshine         69835\n",
       "WindGustSpeed    10263\n",
       "WindSpeed9am      1767\n",
       "WindSpeed3pm      3062\n",
       "Humidity9am       2654\n",
       "Humidity3pm       4507\n",
       "Pressure9am      15065\n",
       "Pressure3pm      15028\n",
       "Cloud9am         55888\n",
       "Cloud3pm         59358\n",
       "Temp9am           1767\n",
       "Temp3pm           3609\n",
       "dtype: int64"
      ]
     },
     "execution_count": 10,
     "metadata": {},
     "output_type": "execute_result"
    }
   ],
   "source": [
    "df[numerik].isna().sum()"
   ]
  },
  {
   "cell_type": "markdown",
   "metadata": {},
   "source": [
    "`berdasarkan informasi yang telah didapatkan, diketahui bahwa terdapat banyak missing value baik di kategorik maupun numerik`"
   ]
  },
  {
   "cell_type": "markdown",
   "metadata": {},
   "source": [
    "- Menghitung jumlah unique data pada tiap kelas/kategori"
   ]
  },
  {
   "cell_type": "code",
   "execution_count": 11,
   "metadata": {},
   "outputs": [
    {
     "name": "stdout",
     "output_type": "stream",
     "text": [
      "Jumlah Unique Data Date : 3436\n",
      "Jumlah Unique Data Location : 49\n",
      "Jumlah Unique Data WindGustDir : 16\n",
      "Jumlah Unique Data WindDir9am : 16\n",
      "Jumlah Unique Data WindDir3pm : 16\n",
      "Jumlah Unique Data RainToday : 2\n",
      "Jumlah Unique Data RainTomorrow : 2\n"
     ]
    }
   ],
   "source": [
    "for i in kategorik:\n",
    "    print('Jumlah Unique Data',i, ':',df['{}'.format(i)].nunique())"
   ]
  },
  {
   "cell_type": "code",
   "execution_count": 12,
   "metadata": {},
   "outputs": [
    {
     "data": {
      "text/plain": [
       "No     110316\n",
       "Yes     31877\n",
       "Name: RainTomorrow, dtype: int64"
      ]
     },
     "execution_count": 12,
     "metadata": {},
     "output_type": "execute_result"
    }
   ],
   "source": [
    "# Hanya berfokus pada RainTomorrow\n",
    "\n",
    "df['RainTomorrow'].value_counts()"
   ]
  },
  {
   "cell_type": "markdown",
   "metadata": {},
   "source": [
    "- Kita juga dapat menampilkannya dalam bentuk visual dengan <code>countplot()</code> dari Seaborn."
   ]
  },
  {
   "cell_type": "code",
   "execution_count": 13,
   "metadata": {},
   "outputs": [
    {
     "data": {
      "text/plain": [
       "<AxesSubplot:xlabel='RainTomorrow', ylabel='count'>"
      ]
     },
     "execution_count": 13,
     "metadata": {},
     "output_type": "execute_result"
    },
    {
     "data": {
      "image/png": "[encoded data removed]",
      "text/plain": [
       "<Figure size 432x288 with 1 Axes>"
      ]
     },
     "metadata": {
      "needs_background": "light"
     },
     "output_type": "display_data"
    }
   ],
   "source": [
    "# Menampilkan visualisasi dengan countplot Seaborn\n",
    "# Fokus untuk menampilkan jumlah data dari RainTomorrow\n",
    "\n",
    "sns.countplot(x='RainTomorrow', data=df, palette='Set1')"
   ]
  },
  {
   "cell_type": "markdown",
   "metadata": {},
   "source": [
    "- Untuk kolom numerik, kita dapat melihat sebaran datanya dengan histogram."
   ]
  },
  {
   "cell_type": "code",
   "execution_count": 14,
   "metadata": {},
   "outputs": [
    {
     "data": {
      "image/png": "[encoded data removed]",
      "text/plain": [
       "<Figure size 1440x1080 with 16 Axes>"
      ]
     },
     "metadata": {
      "needs_background": "light"
     },
     "output_type": "display_data"
    }
   ],
   "source": [
    "df.hist(bins=50, figsize=(20,15))\n",
    "plt.show()"
   ]
  },
  {
   "cell_type": "markdown",
   "metadata": {},
   "source": [
    "`terlihat bahwa beberapa kolom memiliki bentuk distribusi normal dan ada juga yang berbentuk distribusi skewness`"
   ]
  },
  {
   "cell_type": "markdown",
   "metadata": {},
   "source": [
    "- Melihat korelasi antar fitur dapat ditunjukkan dengan <code>heatmap()</code> dari Seaborn."
   ]
  },
  {
   "cell_type": "code",
   "execution_count": 15,
   "metadata": {},
   "outputs": [
    {
     "data": {
      "text/plain": [
       "<AxesSubplot:>"
      ]
     },
     "execution_count": 15,
     "metadata": {},
     "output_type": "execute_result"
    },
    {
     "data": {
      "image/png": "[encoded data removed]",
      "text/plain": [
       "<Figure size 864x504 with 2 Axes>"
      ]
     },
     "metadata": {
      "needs_background": "light"
     },
     "output_type": "display_data"
    }
   ],
   "source": [
    "plt.figure(figsize=(12,7))\n",
    "\n",
    "corr = df.corr()\n",
    "sns.heatmap(corr, annot=True, fmt='.2f')"
   ]
  },
  {
   "cell_type": "markdown",
   "metadata": {},
   "source": [
    "<hr>"
   ]
  },
  {
   "cell_type": "markdown",
   "metadata": {},
   "source": [
    "## Preprocessing"
   ]
  },
  {
   "cell_type": "markdown",
   "metadata": {},
   "source": [
    "- cek statistic dasar"
   ]
  },
  {
   "cell_type": "code",
   "execution_count": 28,
   "metadata": {},
   "outputs": [
    {
     "data": {
      "text/html": [
       "<div>\n",
       "<style scoped>\n",
       "    .dataframe tbody tr th:only-of-type {\n",
       "        vertical-align: middle;\n",
       "    }\n",
       "\n",
       "    .dataframe tbody tr th {\n",
       "        vertical-align: top;\n",
       "    }\n",
       "\n",
       "    .dataframe thead th {\n",
       "        text-align: right;\n",
       "    }\n",
       "</style>\n",
       "<table border=\"1\" class=\"dataframe\">\n",
       "  <thead>\n",
       "    <tr style=\"text-align: right;\">\n",
       "      <th></th>\n",
       "      <th>Temp3pm</th>\n",
       "      <th>Temp9am</th>\n",
       "      <th>Cloud3pm</th>\n",
       "      <th>Cloud9am</th>\n",
       "      <th>Pressure3pm</th>\n",
       "      <th>Pressure9am</th>\n",
       "      <th>Humidity3pm</th>\n",
       "      <th>Humidity9am</th>\n",
       "      <th>WindSpeed3pm</th>\n",
       "      <th>WindSpeed9am</th>\n",
       "      <th>WindGustSpeed</th>\n",
       "      <th>Sunshine</th>\n",
       "      <th>Evaporation</th>\n",
       "      <th>Rainfall</th>\n",
       "      <th>MaxTemp</th>\n",
       "      <th>MinTemp</th>\n",
       "    </tr>\n",
       "  </thead>\n",
       "  <tbody>\n",
       "    <tr>\n",
       "      <th>median</th>\n",
       "      <td>21.10000</td>\n",
       "      <td>16.700000</td>\n",
       "      <td>5.000000</td>\n",
       "      <td>5.000000</td>\n",
       "      <td>1015.200000</td>\n",
       "      <td>1017.60000</td>\n",
       "      <td>52.000000</td>\n",
       "      <td>70.000000</td>\n",
       "      <td>19.000000</td>\n",
       "      <td>13.000000</td>\n",
       "      <td>39.000000</td>\n",
       "      <td>8.400000</td>\n",
       "      <td>4.800000</td>\n",
       "      <td>0.000000</td>\n",
       "      <td>22.600000</td>\n",
       "      <td>12.000000</td>\n",
       "    </tr>\n",
       "    <tr>\n",
       "      <th>count</th>\n",
       "      <td>141851.00000</td>\n",
       "      <td>143693.000000</td>\n",
       "      <td>86102.000000</td>\n",
       "      <td>89572.000000</td>\n",
       "      <td>130432.000000</td>\n",
       "      <td>130395.00000</td>\n",
       "      <td>140953.000000</td>\n",
       "      <td>142806.000000</td>\n",
       "      <td>142398.000000</td>\n",
       "      <td>143693.000000</td>\n",
       "      <td>135197.000000</td>\n",
       "      <td>75625.000000</td>\n",
       "      <td>82670.000000</td>\n",
       "      <td>142199.000000</td>\n",
       "      <td>144199.000000</td>\n",
       "      <td>143975.000000</td>\n",
       "    </tr>\n",
       "    <tr>\n",
       "      <th>mean</th>\n",
       "      <td>21.68339</td>\n",
       "      <td>16.990631</td>\n",
       "      <td>4.509930</td>\n",
       "      <td>4.447461</td>\n",
       "      <td>1015.255889</td>\n",
       "      <td>1017.64994</td>\n",
       "      <td>51.539116</td>\n",
       "      <td>68.880831</td>\n",
       "      <td>18.662657</td>\n",
       "      <td>14.043426</td>\n",
       "      <td>40.035230</td>\n",
       "      <td>7.611178</td>\n",
       "      <td>5.468232</td>\n",
       "      <td>2.360918</td>\n",
       "      <td>23.221348</td>\n",
       "      <td>12.194034</td>\n",
       "    </tr>\n",
       "    <tr>\n",
       "      <th>std</th>\n",
       "      <td>6.93665</td>\n",
       "      <td>6.488753</td>\n",
       "      <td>2.720357</td>\n",
       "      <td>2.887159</td>\n",
       "      <td>7.037414</td>\n",
       "      <td>7.10653</td>\n",
       "      <td>20.795902</td>\n",
       "      <td>19.029164</td>\n",
       "      <td>8.809800</td>\n",
       "      <td>8.915375</td>\n",
       "      <td>13.607062</td>\n",
       "      <td>3.785483</td>\n",
       "      <td>4.193704</td>\n",
       "      <td>8.478060</td>\n",
       "      <td>7.119049</td>\n",
       "      <td>6.398495</td>\n",
       "    </tr>\n",
       "    <tr>\n",
       "      <th>min</th>\n",
       "      <td>-5.40000</td>\n",
       "      <td>-7.200000</td>\n",
       "      <td>0.000000</td>\n",
       "      <td>0.000000</td>\n",
       "      <td>977.100000</td>\n",
       "      <td>980.50000</td>\n",
       "      <td>0.000000</td>\n",
       "      <td>0.000000</td>\n",
       "      <td>0.000000</td>\n",
       "      <td>0.000000</td>\n",
       "      <td>6.000000</td>\n",
       "      <td>0.000000</td>\n",
       "      <td>0.000000</td>\n",
       "      <td>0.000000</td>\n",
       "      <td>-4.800000</td>\n",
       "      <td>-8.500000</td>\n",
       "    </tr>\n",
       "    <tr>\n",
       "      <th>25%</th>\n",
       "      <td>16.60000</td>\n",
       "      <td>12.300000</td>\n",
       "      <td>2.000000</td>\n",
       "      <td>1.000000</td>\n",
       "      <td>1010.400000</td>\n",
       "      <td>1012.90000</td>\n",
       "      <td>37.000000</td>\n",
       "      <td>57.000000</td>\n",
       "      <td>13.000000</td>\n",
       "      <td>7.000000</td>\n",
       "      <td>31.000000</td>\n",
       "      <td>4.800000</td>\n",
       "      <td>2.600000</td>\n",
       "      <td>0.000000</td>\n",
       "      <td>17.900000</td>\n",
       "      <td>7.600000</td>\n",
       "    </tr>\n",
       "    <tr>\n",
       "      <th>50%</th>\n",
       "      <td>21.10000</td>\n",
       "      <td>16.700000</td>\n",
       "      <td>5.000000</td>\n",
       "      <td>5.000000</td>\n",
       "      <td>1015.200000</td>\n",
       "      <td>1017.60000</td>\n",
       "      <td>52.000000</td>\n",
       "      <td>70.000000</td>\n",
       "      <td>19.000000</td>\n",
       "      <td>13.000000</td>\n",
       "      <td>39.000000</td>\n",
       "      <td>8.400000</td>\n",
       "      <td>4.800000</td>\n",
       "      <td>0.000000</td>\n",
       "      <td>22.600000</td>\n",
       "      <td>12.000000</td>\n",
       "    </tr>\n",
       "    <tr>\n",
       "      <th>75%</th>\n",
       "      <td>26.40000</td>\n",
       "      <td>21.600000</td>\n",
       "      <td>7.000000</td>\n",
       "      <td>7.000000</td>\n",
       "      <td>1020.000000</td>\n",
       "      <td>1022.40000</td>\n",
       "      <td>66.000000</td>\n",
       "      <td>83.000000</td>\n",
       "      <td>24.000000</td>\n",
       "      <td>19.000000</td>\n",
       "      <td>48.000000</td>\n",
       "      <td>10.600000</td>\n",
       "      <td>7.400000</td>\n",
       "      <td>0.800000</td>\n",
       "      <td>28.200000</td>\n",
       "      <td>16.900000</td>\n",
       "    </tr>\n",
       "    <tr>\n",
       "      <th>max</th>\n",
       "      <td>46.70000</td>\n",
       "      <td>40.200000</td>\n",
       "      <td>9.000000</td>\n",
       "      <td>9.000000</td>\n",
       "      <td>1039.600000</td>\n",
       "      <td>1041.00000</td>\n",
       "      <td>100.000000</td>\n",
       "      <td>100.000000</td>\n",
       "      <td>87.000000</td>\n",
       "      <td>130.000000</td>\n",
       "      <td>135.000000</td>\n",
       "      <td>14.500000</td>\n",
       "      <td>145.000000</td>\n",
       "      <td>371.000000</td>\n",
       "      <td>48.100000</td>\n",
       "      <td>33.900000</td>\n",
       "    </tr>\n",
       "  </tbody>\n",
       "</table>\n",
       "</div>"
      ],
      "text/plain": [
       "             Temp3pm        Temp9am      Cloud3pm      Cloud9am  \\\n",
       "median      21.10000      16.700000      5.000000      5.000000   \n",
       "count   141851.00000  143693.000000  86102.000000  89572.000000   \n",
       "mean        21.68339      16.990631      4.509930      4.447461   \n",
       "std          6.93665       6.488753      2.720357      2.887159   \n",
       "min         -5.40000      -7.200000      0.000000      0.000000   \n",
       "25%         16.60000      12.300000      2.000000      1.000000   \n",
       "50%         21.10000      16.700000      5.000000      5.000000   \n",
       "75%         26.40000      21.600000      7.000000      7.000000   \n",
       "max         46.70000      40.200000      9.000000      9.000000   \n",
       "\n",
       "          Pressure3pm   Pressure9am    Humidity3pm    Humidity9am  \\\n",
       "median    1015.200000    1017.60000      52.000000      70.000000   \n",
       "count   130432.000000  130395.00000  140953.000000  142806.000000   \n",
       "mean      1015.255889    1017.64994      51.539116      68.880831   \n",
       "std          7.037414       7.10653      20.795902      19.029164   \n",
       "min        977.100000     980.50000       0.000000       0.000000   \n",
       "25%       1010.400000    1012.90000      37.000000      57.000000   \n",
       "50%       1015.200000    1017.60000      52.000000      70.000000   \n",
       "75%       1020.000000    1022.40000      66.000000      83.000000   \n",
       "max       1039.600000    1041.00000     100.000000     100.000000   \n",
       "\n",
       "         WindSpeed3pm   WindSpeed9am  WindGustSpeed      Sunshine  \\\n",
       "median      19.000000      13.000000      39.000000      8.400000   \n",
       "count   142398.000000  143693.000000  135197.000000  75625.000000   \n",
       "mean        18.662657      14.043426      40.035230      7.611178   \n",
       "std          8.809800       8.915375      13.607062      3.785483   \n",
       "min          0.000000       0.000000       6.000000      0.000000   \n",
       "25%         13.000000       7.000000      31.000000      4.800000   \n",
       "50%         19.000000      13.000000      39.000000      8.400000   \n",
       "75%         24.000000      19.000000      48.000000     10.600000   \n",
       "max         87.000000     130.000000     135.000000     14.500000   \n",
       "\n",
       "         Evaporation       Rainfall        MaxTemp        MinTemp  \n",
       "median      4.800000       0.000000      22.600000      12.000000  \n",
       "count   82670.000000  142199.000000  144199.000000  143975.000000  \n",
       "mean        5.468232       2.360918      23.221348      12.194034  \n",
       "std         4.193704       8.478060       7.119049       6.398495  \n",
       "min         0.000000       0.000000      -4.800000      -8.500000  \n",
       "25%         2.600000       0.000000      17.900000       7.600000  \n",
       "50%         4.800000       0.000000      22.600000      12.000000  \n",
       "75%         7.400000       0.800000      28.200000      16.900000  \n",
       "max       145.000000     371.000000      48.100000      33.900000  "
      ]
     },
     "execution_count": 28,
     "metadata": {},
     "output_type": "execute_result"
    }
   ],
   "source": [
    "median = {\n",
    "    'Temp3pm'       : [df.median()[15]],\n",
    "    'Temp9am'       : [df.median()[14]],\n",
    "    'Cloud3pm'      : [df.median()[13]],\n",
    "    'Cloud9am'      : [df.median()[12]],\n",
    "    'Pressure3pm'   : [df.median()[11]],\n",
    "    'Pressure9am'   : [df.median()[10]],\n",
    "    'Humidity3pm'   : [df.median()[9]],\n",
    "    'Humidity9am'   : [df.median()[8]],\n",
    "    'WindSpeed3pm'  : [df.median()[7]],\n",
    "    'WindSpeed9am'  : [df.median()[6]],\n",
    "    'WindGustSpeed' : [df.median()[5]],\n",
    "    'Sunshine'      : [df.median()[4]],\n",
    "    'Evaporation'   : [df.median()[3]],\n",
    "    'Rainfall'      : [df.median()[2]],\n",
    "    'MaxTemp'       : [df.median()[1]],\n",
    "    'MinTemp'       : [df.median()[0]]\n",
    "}\n",
    "median = pd.DataFrame(median)\n",
    "\n",
    "median\n",
    "desc = df.describe()\n",
    "describe = pd.concat([median, desc], axis=0).rename(index={0:'median'})\n",
    "describe"
   ]
  },
  {
   "cell_type": "markdown",
   "metadata": {},
   "source": [
    "- Mari kita lihat <code>info()</code> dari dataframe <code>df kategorik</code>."
   ]
  },
  {
   "cell_type": "code",
   "execution_count": 12,
   "metadata": {},
   "outputs": [
    {
     "name": "stdout",
     "output_type": "stream",
     "text": [
      "<class 'pandas.core.frame.DataFrame'>\n",
      "RangeIndex: 145460 entries, 0 to 145459\n",
      "Data columns (total 7 columns):\n",
      " #   Column        Non-Null Count   Dtype \n",
      "---  ------        --------------   ----- \n",
      " 0   Date          145460 non-null  object\n",
      " 1   Location      145460 non-null  object\n",
      " 2   WindGustDir   135134 non-null  object\n",
      " 3   WindDir9am    134894 non-null  object\n",
      " 4   WindDir3pm    141232 non-null  object\n",
      " 5   RainToday     142199 non-null  object\n",
      " 6   RainTomorrow  142193 non-null  object\n",
      "dtypes: object(7)\n",
      "memory usage: 7.8+ MB\n"
     ]
    }
   ],
   "source": [
    "df[kategorik].info()"
   ]
  },
  {
   "cell_type": "code",
   "execution_count": 13,
   "metadata": {},
   "outputs": [
    {
     "data": {
      "text/plain": [
       "Date                0\n",
       "Location            0\n",
       "WindGustDir     10326\n",
       "WindDir9am      10566\n",
       "WindDir3pm       4228\n",
       "RainToday        3261\n",
       "RainTomorrow     3267\n",
       "dtype: int64"
      ]
     },
     "execution_count": 13,
     "metadata": {},
     "output_type": "execute_result"
    }
   ],
   "source": [
    "df[kategorik].isnull().sum()"
   ]
  },
  {
   "cell_type": "markdown",
   "metadata": {},
   "source": [
    "`Dari hasil di atas, terlihat bahwa ada banyak `<i>missing values</i>` namun tipe datanya sudah sesuai.`"
   ]
  },
  {
   "cell_type": "markdown",
   "metadata": {},
   "source": [
    "- Menghapus missing value dari kolom RainTomorrow"
   ]
  },
  {
   "cell_type": "code",
   "execution_count": 14,
   "metadata": {},
   "outputs": [
    {
     "name": "stdout",
     "output_type": "stream",
     "text": [
      "Sebelum : (145460, 23)\n",
      "Setelah : (142193, 23)\n"
     ]
    }
   ],
   "source": [
    "print('Sebelum :',df.shape)\n",
    "df.dropna(subset=['RainTomorrow'],inplace = True)\n",
    "df = df.reset_index(drop=True)\n",
    "print('Setelah :', df.shape)"
   ]
  },
  {
   "cell_type": "markdown",
   "metadata": {},
   "source": [
    "- Mengubah format kolom Date dan membagi sesuai tahun, bulan, dan hari"
   ]
  },
  {
   "cell_type": "code",
   "execution_count": 15,
   "metadata": {},
   "outputs": [],
   "source": [
    "df['Date'] = pd.to_datetime(df['Date'])\n",
    "df['year'] = df['Date'].dt.year\n",
    "df['month'] = df['Date'].dt.month\n",
    "df['day'] = df['Date'].dt.day\n",
    "df.drop('Date',axis = 1,inplace = True)"
   ]
  },
  {
   "cell_type": "code",
   "execution_count": 16,
   "metadata": {},
   "outputs": [
    {
     "name": "stdout",
     "output_type": "stream",
     "text": [
      "<class 'pandas.core.frame.DataFrame'>\n",
      "RangeIndex: 142193 entries, 0 to 142192\n",
      "Data columns (total 3 columns):\n",
      " #   Column  Non-Null Count   Dtype\n",
      "---  ------  --------------   -----\n",
      " 0   year    142193 non-null  int64\n",
      " 1   month   142193 non-null  int64\n",
      " 2   day     142193 non-null  int64\n",
      "dtypes: int64(3)\n",
      "memory usage: 3.3 MB\n"
     ]
    }
   ],
   "source": [
    "df[['year', 'month','day']].info()"
   ]
  },
  {
   "cell_type": "code",
   "execution_count": 17,
   "metadata": {},
   "outputs": [
    {
     "name": "stdout",
     "output_type": "stream",
     "text": [
      "string\n"
     ]
    }
   ],
   "source": [
    "df[['year', 'month','day']] = df[['year', 'month','day']].astype('string')\n",
    "print(df.year.dtypes)"
   ]
  },
  {
   "cell_type": "markdown",
   "metadata": {},
   "source": [
    "`Kolom Date tipe datanya akan diubah menjadi string, agar memudahkan untuk memodifikasi tipe data integer lainnya. Ini hanya sementara, berikutnya akan dikembalikan menjadi tipe integer`"
   ]
  },
  {
   "cell_type": "markdown",
   "metadata": {},
   "source": [
    "Mari kita lihat <code>info()</code> dari dataframe <code>df numerik</code>."
   ]
  },
  {
   "cell_type": "code",
   "execution_count": 18,
   "metadata": {},
   "outputs": [
    {
     "name": "stdout",
     "output_type": "stream",
     "text": [
      "<class 'pandas.core.frame.DataFrame'>\n",
      "RangeIndex: 142193 entries, 0 to 142192\n",
      "Data columns (total 16 columns):\n",
      " #   Column         Non-Null Count   Dtype  \n",
      "---  ------         --------------   -----  \n",
      " 0   MinTemp        141556 non-null  float64\n",
      " 1   MaxTemp        141871 non-null  float64\n",
      " 2   Rainfall       140787 non-null  float64\n",
      " 3   Evaporation    81350 non-null   float64\n",
      " 4   Sunshine       74377 non-null   float64\n",
      " 5   WindGustSpeed  132923 non-null  float64\n",
      " 6   WindSpeed9am   140845 non-null  float64\n",
      " 7   WindSpeed3pm   139563 non-null  float64\n",
      " 8   Humidity9am    140419 non-null  float64\n",
      " 9   Humidity3pm    138583 non-null  float64\n",
      " 10  Pressure9am    128179 non-null  float64\n",
      " 11  Pressure3pm    128212 non-null  float64\n",
      " 12  Cloud9am       88536 non-null   float64\n",
      " 13  Cloud3pm       85099 non-null   float64\n",
      " 14  Temp9am        141289 non-null  float64\n",
      " 15  Temp3pm        139467 non-null  float64\n",
      "dtypes: float64(16)\n",
      "memory usage: 17.4 MB\n"
     ]
    }
   ],
   "source": [
    "df[numerik].info()"
   ]
  },
  {
   "cell_type": "code",
   "execution_count": 19,
   "metadata": {},
   "outputs": [
    {
     "data": {
      "text/plain": [
       "MinTemp            637\n",
       "MaxTemp            322\n",
       "Rainfall          1406\n",
       "Evaporation      60843\n",
       "Sunshine         67816\n",
       "WindGustSpeed     9270\n",
       "WindSpeed9am      1348\n",
       "WindSpeed3pm      2630\n",
       "Humidity9am       1774\n",
       "Humidity3pm       3610\n",
       "Pressure9am      14014\n",
       "Pressure3pm      13981\n",
       "Cloud9am         53657\n",
       "Cloud3pm         57094\n",
       "Temp9am            904\n",
       "Temp3pm           2726\n",
       "dtype: int64"
      ]
     },
     "execution_count": 19,
     "metadata": {},
     "output_type": "execute_result"
    }
   ],
   "source": [
    "df[numerik].isnull().sum()"
   ]
  },
  {
   "cell_type": "markdown",
   "metadata": {},
   "source": [
    "`Dari hasil di atas, terlihat bahwa ada banyak `<i>missing values</i>` namun tipe datanya sudah sesuai.`"
   ]
  },
  {
   "cell_type": "markdown",
   "metadata": {},
   "source": [
    "- Membuat fungsi def untuk melihat outlier pada setiap kolom numerik"
   ]
  },
  {
   "cell_type": "code",
   "execution_count": 20,
   "metadata": {},
   "outputs": [],
   "source": [
    "def print_outlier(df, col):\n",
    "    plt.figure(figsize = (10, 5))\n",
    "    sns.boxplot(df[col])\n",
    "    plt.annotate('Outlier', (df[col].describe()['max'],0.1), xytext = (df[col].describe()['max'],0.3),\n",
    "                arrowprops = dict(facecolor = 'blue'), fontsize = 13 )\n",
    "    plt.annotate('Outlier', (df[col].describe()['min'],0.1), xytext = (df[col].describe()['min'],0.3),\n",
    "                arrowprops = dict(facecolor = 'blue'), fontsize = 13 )\n",
    "    IQR = df[col].describe()['75%'] - df[col].describe()['25%']"
   ]
  },
  {
   "cell_type": "code",
   "execution_count": 21,
   "metadata": {},
   "outputs": [
    {
     "data": {
      "image/png": "[encoded data removed]",
      "text/plain": [
       "<Figure size 720x360 with 1 Axes>"
      ]
     },
     "metadata": {
      "needs_background": "light"
     },
     "output_type": "display_data"
    },
    {
     "data": {
      "image/png": "[encoded data removed]",
      "text/plain": [
       "<Figure size 720x360 with 1 Axes>"
      ]
     },
     "metadata": {
      "needs_background": "light"
     },
     "output_type": "display_data"
    },
    {
     "data": {
      "image/png": "[encoded data removed]",
      "text/plain": [
       "<Figure size 720x360 with 1 Axes>"
      ]
     },
     "metadata": {
      "needs_background": "light"
     },
     "output_type": "display_data"
    },
    {
     "data": {
      "image/png": "[encoded data removed]",
      "text/plain": [
       "<Figure size 720x360 with 1 Axes>"
      ]
     },
     "metadata": {
      "needs_background": "light"
     },
     "output_type": "display_data"
    },
    {
     "data": {
      "image/png": "[encoded data removed]",
      "text/plain": [
       "<Figure size 720x360 with 1 Axes>"
      ]
     },
     "metadata": {
      "needs_background": "light"
     },
     "output_type": "display_data"
    },
    {
     "data": {
      "image/png": "[encoded data removed]",
      "text/plain": [
       "<Figure size 720x360 with 1 Axes>"
      ]
     },
     "metadata": {
      "needs_background": "light"
     },
     "output_type": "display_data"
    },
    {
     "data": {
      "image/png": "[encoded data removed]",
      "text/plain": [
       "<Figure size 720x360 with 1 Axes>"
      ]
     },
     "metadata": {
      "needs_background": "light"
     },
     "output_type": "display_data"
    },
    {
     "data": {
      "image/png": "[encoded data removed]",
      "text/plain": [
       "<Figure size 720x360 with 1 Axes>"
      ]
     },
     "metadata": {
      "needs_background": "light"
     },
     "output_type": "display_data"
    },
    {
     "data": {
      "image/png": "[encoded data removed]",
      "text/plain": [
       "<Figure size 720x360 with 1 Axes>"
      ]
     },
     "metadata": {
      "needs_background": "light"
     },
     "output_type": "display_data"
    },
    {
     "data": {
      "image/png": "[encoded data removed]",
      "text/plain": [
       "<Figure size 720x360 with 1 Axes>"
      ]
     },
     "metadata": {
      "needs_background": "light"
     },
     "output_type": "display_data"
    },
    {
     "data": {
      "image/png": "[encoded data removed]",
      "text/plain": [
       "<Figure size 720x360 with 1 Axes>"
      ]
     },
     "metadata": {
      "needs_background": "light"
     },
     "output_type": "display_data"
    },
    {
     "data": {
      "image/png": "[encoded data removed]",
      "text/plain": [
       "<Figure size 720x360 with 1 Axes>"
      ]
     },
     "metadata": {
      "needs_background": "light"
     },
     "output_type": "display_data"
    },
    {
     "data": {
      "image/png": "[encoded data removed]",
      "text/plain": [
       "<Figure size 720x360 with 1 Axes>"
      ]
     },
     "metadata": {
      "needs_background": "light"
     },
     "output_type": "display_data"
    },
    {
     "data": {
      "image/png": "[encoded data removed]",
      "text/plain": [
       "<Figure size 720x360 with 1 Axes>"
      ]
     },
     "metadata": {
      "needs_background": "light"
     },
     "output_type": "display_data"
    },
    {
     "data": {
      "image/png": "[encoded data removed]",
      "text/plain": [
       "<Figure size 720x360 with 1 Axes>"
      ]
     },
     "metadata": {
      "needs_background": "light"
     },
     "output_type": "display_data"
    },
    {
     "data": {
      "image/png": "[encoded data removed]",
      "text/plain": [
       "<Figure size 720x360 with 1 Axes>"
      ]
     },
     "metadata": {
      "needs_background": "light"
     },
     "output_type": "display_data"
    }
   ],
   "source": [
    "for i in numerik:\n",
    "    print_outlier(df, '{}'.format(i))"
   ]
  },
  {
   "cell_type": "markdown",
   "metadata": {},
   "source": [
    "`Terlihat banyak outlier pada setiap kolom numerik`"
   ]
  },
  {
   "cell_type": "markdown",
   "metadata": {},
   "source": [
    "- Membuat fungsi def yang akan digunakan untuk mengeluarkan outlier"
   ]
  },
  {
   "cell_type": "code",
   "execution_count": 22,
   "metadata": {},
   "outputs": [],
   "source": [
    "# membuat fungsi untuk mengecek nilai yang menjadi outlier\n",
    "\n",
    "def cek_outlier(df, x):\n",
    "    Q1 = df[x].describe()['25%']\n",
    "    Q3 = df[x].describe()['75%']\n",
    "    IQR = Q3-Q1\n",
    "    return df[(df[x] < Q1-1.5*IQR) | (df[x] > Q3+1.5*IQR)]\n",
    "\n",
    "\n",
    "\n",
    "# membuat fungsi untuk menghapus nilai yang outlier\n",
    "\n",
    "def hapus_outlier(df, x):\n",
    "    \n",
    "    q1 = df[x].quantile(0.25) # 25% percentile\n",
    "    q3 = df[x].quantile(0.75) # 75% percentile\n",
    "    \n",
    "    iqr = q3-q1\n",
    "    bawah  = q1-1.5*iqr\n",
    "    atas = q3+1.5*iqr\n",
    "    \n",
    "    df.drop(df[ (df[x] > atas) | (df[x] < bawah) ].index, inplace=True)\n",
    "\n"
   ]
  },
  {
   "cell_type": "code",
   "execution_count": 23,
   "metadata": {},
   "outputs": [],
   "source": [
    "for i in numerik:\n",
    "    hapus_outlier(df,i)"
   ]
  },
  {
   "cell_type": "markdown",
   "metadata": {},
   "source": [
    "- Mengembalikan tipe data kolom Date menjadi integer"
   ]
  },
  {
   "cell_type": "code",
   "execution_count": 24,
   "metadata": {},
   "outputs": [
    {
     "name": "stdout",
     "output_type": "stream",
     "text": [
      "int32\n"
     ]
    }
   ],
   "source": [
    "df[['year', 'month','day']] = df[['year', 'month','day']].astype('int')\n",
    "print(df.year.dtypes)"
   ]
  },
  {
   "cell_type": "markdown",
   "metadata": {},
   "source": [
    "<hr>"
   ]
  },
  {
   "cell_type": "markdown",
   "metadata": {},
   "source": [
    "### Train test split"
   ]
  },
  {
   "cell_type": "markdown",
   "metadata": {},
   "source": [
    "- Mendefinisikan fitur dan target. "
   ]
  },
  {
   "cell_type": "code",
   "execution_count": 25,
   "metadata": {},
   "outputs": [],
   "source": [
    "X = df.drop('RainTomorrow', axis=1)       # fitur\n",
    "y = df['RainTomorrow']                    # label"
   ]
  },
  {
   "cell_type": "markdown",
   "metadata": {},
   "source": [
    "- Selanjutnya kita lakukan <code>train_test_split()</code>."
   ]
  },
  {
   "cell_type": "code",
   "execution_count": 26,
   "metadata": {},
   "outputs": [
    {
     "name": "stdout",
     "output_type": "stream",
     "text": [
      "Train set: (85016, 24) (85016,)\n",
      "Test set: (21255, 24) (21255,)\n"
     ]
    }
   ],
   "source": [
    "from sklearn.model_selection import train_test_split\n",
    "\n",
    "# Train test split\n",
    "X_train, X_test, y_train, y_test = train_test_split(X, y, test_size=0.2, random_state=42)\n",
    "\n",
    "print ('Train set:', X_train.shape,  y_train.shape)\n",
    "print ('Test set:', X_test.shape,  y_test.shape)"
   ]
  },
  {
   "cell_type": "markdown",
   "metadata": {},
   "source": [
    "- <i>handle missing value<i> pada kolom numerik dengan menggunakan median dari setiap kolom "
   ]
  },
  {
   "cell_type": "code",
   "execution_count": 27,
   "metadata": {},
   "outputs": [],
   "source": [
    "for df in [X_train, X_test]:\n",
    "    for col in numerik:\n",
    "        col_median=X_train[col].median()\n",
    "        df[col].fillna(col_median, inplace=True)"
   ]
  },
  {
   "cell_type": "markdown",
   "metadata": {},
   "source": [
    "- cek ulang <i>missing value<i> pada kolom numerik"
   ]
  },
  {
   "cell_type": "code",
   "execution_count": 28,
   "metadata": {},
   "outputs": [
    {
     "data": {
      "text/plain": [
       "MinTemp          0\n",
       "MaxTemp          0\n",
       "Rainfall         0\n",
       "Evaporation      0\n",
       "Sunshine         0\n",
       "WindGustSpeed    0\n",
       "WindSpeed9am     0\n",
       "WindSpeed3pm     0\n",
       "Humidity9am      0\n",
       "Humidity3pm      0\n",
       "Pressure9am      0\n",
       "Pressure3pm      0\n",
       "Cloud9am         0\n",
       "Cloud3pm         0\n",
       "Temp9am          0\n",
       "Temp3pm          0\n",
       "dtype: int64"
      ]
     },
     "execution_count": 28,
     "metadata": {},
     "output_type": "execute_result"
    }
   ],
   "source": [
    "X_test[numerik].isnull().sum()"
   ]
  },
  {
   "cell_type": "code",
   "execution_count": 29,
   "metadata": {},
   "outputs": [
    {
     "data": {
      "text/plain": [
       "MinTemp          0\n",
       "MaxTemp          0\n",
       "Rainfall         0\n",
       "Evaporation      0\n",
       "Sunshine         0\n",
       "WindGustSpeed    0\n",
       "WindSpeed9am     0\n",
       "WindSpeed3pm     0\n",
       "Humidity9am      0\n",
       "Humidity3pm      0\n",
       "Pressure9am      0\n",
       "Pressure3pm      0\n",
       "Cloud9am         0\n",
       "Cloud3pm         0\n",
       "Temp9am          0\n",
       "Temp3pm          0\n",
       "dtype: int64"
      ]
     },
     "execution_count": 29,
     "metadata": {},
     "output_type": "execute_result"
    }
   ],
   "source": [
    "X_train[numerik].isnull().sum()"
   ]
  },
  {
   "cell_type": "markdown",
   "metadata": {},
   "source": [
    "`terlihat bahwa sudah tidak ada missing value pada kolom numerik`"
   ]
  },
  {
   "cell_type": "markdown",
   "metadata": {},
   "source": [
    "- <i>handle missing value<i> pada kolom kategorik dengan menggunakan modus dari setiap kolom "
   ]
  },
  {
   "cell_type": "code",
   "execution_count": 30,
   "metadata": {},
   "outputs": [],
   "source": [
    "for df1 in [X_train, X_test]:\n",
    "    df1['WindGustDir'].fillna(X_train['WindGustDir'].mode()[0], inplace=True)\n",
    "    df1['WindDir9am'].fillna(X_train['WindDir9am'].mode()[0], inplace=True)\n",
    "    df1['WindDir3pm'].fillna(X_train['WindDir3pm'].mode()[0], inplace=True)\n",
    "    df1['RainToday'].fillna(X_train['RainToday'].mode()[0], inplace=True)"
   ]
  },
  {
   "cell_type": "markdown",
   "metadata": {},
   "source": [
    "- Memisahkan kolom kategorik pada X_train"
   ]
  },
  {
   "cell_type": "code",
   "execution_count": 31,
   "metadata": {},
   "outputs": [],
   "source": [
    "categorical = [i for i in X_train.columns if X_train[i].dtype == 'O']\n",
    "\n",
    "categorical.remove('Location') #location dihapus karena tidak memiliki missing value"
   ]
  },
  {
   "cell_type": "markdown",
   "metadata": {},
   "source": [
    "`karena fitur dan target telah dipisah, yang mana RainTomorrow telah terpisah dengan kolom fitur lainnya (menjadi target), sehingga memisahkan ulang antara kolom numerik dan kategorik pada X_train.`"
   ]
  },
  {
   "cell_type": "markdown",
   "metadata": {},
   "source": [
    "- cek missing value pada kolom numerik"
   ]
  },
  {
   "cell_type": "code",
   "execution_count": 32,
   "metadata": {},
   "outputs": [
    {
     "data": {
      "text/plain": [
       "WindGustDir    0\n",
       "WindDir9am     0\n",
       "WindDir3pm     0\n",
       "RainToday      0\n",
       "dtype: int64"
      ]
     },
     "execution_count": 32,
     "metadata": {},
     "output_type": "execute_result"
    }
   ],
   "source": [
    "X_train[categorical].isnull().sum()"
   ]
  },
  {
   "cell_type": "code",
   "execution_count": 33,
   "metadata": {},
   "outputs": [
    {
     "data": {
      "text/plain": [
       "WindGustDir    0\n",
       "WindDir9am     0\n",
       "WindDir3pm     0\n",
       "RainToday      0\n",
       "dtype: int64"
      ]
     },
     "execution_count": 33,
     "metadata": {},
     "output_type": "execute_result"
    }
   ],
   "source": [
    "X_test[categorical].isnull().sum()"
   ]
  },
  {
   "cell_type": "markdown",
   "metadata": {},
   "source": [
    "`terlihat bahwa kolom kategorik sudah tidak memiliki missing value`"
   ]
  },
  {
   "cell_type": "markdown",
   "metadata": {},
   "source": [
    "- membuat fungsi def untuk proses encoding"
   ]
  },
  {
   "cell_type": "code",
   "execution_count": 34,
   "metadata": {},
   "outputs": [],
   "source": [
    "def label(col):\n",
    "    label = preprocessing.LabelEncoder()\n",
    " \n",
    "    X_train[col] = label.fit_transform(X_train[col])\n",
    "    X_test[col]  = label.transform(X_test[col])"
   ]
  },
  {
   "cell_type": "code",
   "execution_count": 35,
   "metadata": {},
   "outputs": [],
   "source": [
    "def hot(col):\n",
    "    hot = OneHotEncoder(sparse=False)\n",
    "    \n",
    "    train  =  hot.fit_transform(X_train[[col]])\n",
    "    test   =  hot.fit_transform(X_test[[col]])\n",
    "    \n",
    "    train_df = pd.DataFrame(train)\n",
    "    test_df = pd.DataFrame(test)\n",
    "    \n",
    "    header = X_train[col].sort_values().unique()\n",
    "    \n",
    "    train_df.columns = col+'_'+header\n",
    "    test_df.columns  = col+'_'+header\n",
    "    \n",
    "    \n",
    "    return train_df, test_df"
   ]
  },
  {
   "cell_type": "markdown",
   "metadata": {},
   "source": [
    "- lakukan proses encoding pada kolom kategorik"
   ]
  },
  {
   "cell_type": "code",
   "execution_count": 36,
   "metadata": {},
   "outputs": [],
   "source": [
    "train_location, test_location = hot('Location')\n",
    "train_WindGustDir, test_WindGustDir = hot('WindGustDir')\n",
    "train_WindDir9am, test_WindDir9am = hot('WindDir9am')\n",
    "train_WindDir3pm, test_WindDir3pm = hot('WindDir3pm')\n",
    "train_RainToday, test_RainToday = hot('RainToday')"
   ]
  },
  {
   "cell_type": "markdown",
   "metadata": {},
   "source": [
    "- menggabungkan seluruh data (kolom numerik dan kolom kategorik yang telah di encoding)"
   ]
  },
  {
   "cell_type": "code",
   "execution_count": 37,
   "metadata": {},
   "outputs": [],
   "source": [
    "X_train = pd.concat([X_train[numerik].reset_index(drop=True), train_location,train_WindGustDir,train_WindDir9am, train_WindDir3pm, train_RainToday], axis= 1)\n",
    "\n",
    "X_test  = pd.concat([X_test[numerik].reset_index(drop=True), test_location,test_WindGustDir,test_WindDir9am, test_WindDir3pm, test_RainToday], axis= 1)"
   ]
  },
  {
   "cell_type": "markdown",
   "metadata": {},
   "source": [
    "<hr>"
   ]
  },
  {
   "cell_type": "markdown",
   "metadata": {},
   "source": [
    "### Data Normalization"
   ]
  },
  {
   "cell_type": "markdown",
   "metadata": {},
   "source": [
    "- melakukan normalisasi agar semua data skalanya seimbang"
   ]
  },
  {
   "cell_type": "code",
   "execution_count": 38,
   "metadata": {},
   "outputs": [],
   "source": [
    "cols = X_train.columns\n",
    "from sklearn.preprocessing import MinMaxScaler\n",
    "\n",
    "scaler = MinMaxScaler()\n",
    "\n",
    "X_train = scaler.fit_transform(X_train)\n",
    "X_test = scaler.transform(X_test)\n",
    "\n",
    "X_train = pd.DataFrame(X_train, columns=[cols])\n",
    "X_test = pd.DataFrame(X_test, columns=[cols])"
   ]
  },
  {
   "cell_type": "markdown",
   "metadata": {},
   "source": [
    "<hr>"
   ]
  },
  {
   "cell_type": "markdown",
   "metadata": {},
   "source": [
    "### Model Training"
   ]
  },
  {
   "cell_type": "markdown",
   "metadata": {},
   "source": [
    "- membuat model untuk fitting"
   ]
  },
  {
   "cell_type": "code",
   "execution_count": 39,
   "metadata": {},
   "outputs": [],
   "source": [
    "def fitting(model):\n",
    "    \n",
    "    model.fit(X_train, y_train)\n",
    "    score = model.score(X_test,y_test)\n",
    "    \n",
    "    return score"
   ]
  },
  {
   "cell_type": "markdown",
   "metadata": {},
   "source": [
    "#### `Logistik Regression`"
   ]
  },
  {
   "cell_type": "markdown",
   "metadata": {},
   "source": [
    "- melakukan training data menggunakan model logistic regression"
   ]
  },
  {
   "cell_type": "code",
   "execution_count": 54,
   "metadata": {},
   "outputs": [
    {
     "name": "stdout",
     "output_type": "stream",
     "text": [
      "score Data Test   = 0.8744\n",
      "Score Data Train  = 0.8750\n"
     ]
    }
   ],
   "source": [
    "logreg = LogisticRegression(solver='liblinear', random_state=0)\n",
    "log_score = fitting(logreg)\n",
    "\n",
    "print('score Data Test   = %0.4f' % log_score)\n",
    "print('Score Data Train  = {:.4f}'.format(logreg.score(X_train, y_train)))"
   ]
  },
  {
   "cell_type": "markdown",
   "metadata": {},
   "source": [
    "`berdasarkan dari score data train dan test, terlihat bahwa model tidak overfitting dimana hasil skor score Data Train (0.8750) > score Data Test (0.8744)`"
   ]
  },
  {
   "cell_type": "markdown",
   "metadata": {},
   "source": [
    "- tes model"
   ]
  },
  {
   "cell_type": "code",
   "execution_count": 41,
   "metadata": {},
   "outputs": [],
   "source": [
    "y_pred = logreg.predict(X_test)"
   ]
  },
  {
   "cell_type": "markdown",
   "metadata": {},
   "source": [
    "- Evaluasi hasil model Logistic Regression dengan <code>accuracy_score()</code> untuk <i>train set</i> dan <i>test set</i>-nya."
   ]
  },
  {
   "cell_type": "code",
   "execution_count": 42,
   "metadata": {},
   "outputs": [
    {
     "name": "stdout",
     "output_type": "stream",
     "text": [
      "Train set Accuracy: 0.8750\n",
      "Test set Accuracy: 0.8744\n"
     ]
    }
   ],
   "source": [
    "print('Train set Accuracy: %.4f' % accuracy_score(y_train, logreg.predict(X_train)))\n",
    "print('Test set Accuracy: %.4f' % accuracy_score(y_test, y_pred))"
   ]
  },
  {
   "cell_type": "markdown",
   "metadata": {},
   "source": [
    "`accurasi dari data train dan test juga sama`"
   ]
  },
  {
   "cell_type": "markdown",
   "metadata": {},
   "source": [
    "- Kita juga dapat menampilkan <i>classification_report<i>-nya."
   ]
  },
  {
   "cell_type": "code",
   "execution_count": 43,
   "metadata": {},
   "outputs": [
    {
     "name": "stdout",
     "output_type": "stream",
     "text": [
      "Classification report : \n",
      "              precision    recall  f1-score   support\n",
      "\n",
      "          No       0.89      0.97      0.93     17927\n",
      "         Yes       0.70      0.34      0.46      3328\n",
      "\n",
      "    accuracy                           0.87     21255\n",
      "   macro avg       0.80      0.66      0.70     21255\n",
      "weighted avg       0.86      0.87      0.86     21255\n",
      "\n"
     ]
    }
   ],
   "source": [
    "print('Classification report : ')\n",
    "print(classification_report(y_test, y_pred, zero_division=1))"
   ]
  },
  {
   "cell_type": "markdown",
   "metadata": {},
   "source": [
    "Seperti yang dapat kita lihat, hasil akurasi untuk <i>data test</i> sekitar __0.8734__, sementara untuk <i>data train</i> sekitar __0.8736__.\n",
    "\n",
    "`Model Logistik Regression ini mampu memprediksi cuaca dengan akurasi sekitar 87.34%`"
   ]
  },
  {
   "cell_type": "markdown",
   "metadata": {},
   "source": [
    "<hr>"
   ]
  },
  {
   "cell_type": "markdown",
   "metadata": {},
   "source": [
    "### K-Fold Cross Validation"
   ]
  },
  {
   "cell_type": "code",
   "execution_count": 44,
   "metadata": {},
   "outputs": [],
   "source": [
    "tot_data_x = pd.concat([X_train, X_test]).reset_index(drop=True)\n",
    "tot_data_y = pd.concat([y_train, y_test]).reset_index(drop=True)\n",
    "tot_data   = pd.concat([tot_data_x, tot_data_y], axis= 1)"
   ]
  },
  {
   "cell_type": "code",
   "execution_count": 45,
   "metadata": {},
   "outputs": [
    {
     "name": "stdout",
     "output_type": "stream",
     "text": [
      "Accuracy score: 0.7768\n"
     ]
    }
   ],
   "source": [
    "kf = KFold(n_splits=10, random_state=42, shuffle=True) \n",
    "\n",
    "# Training dan testing model\n",
    "model_logreg = LogisticRegression(solver='liblinear', class_weight='balanced').fit(tot_data_x, tot_data_y)\n",
    "\n",
    "# Evaluasi model dengan cross_val_score dengan scoring 'accuracy'\n",
    "scores = cross_val_score(model_logreg, tot_data_x, tot_data_y, scoring='accuracy', cv=kf, n_jobs=-1)\n",
    "print('Accuracy score: %.4f' % (np.mean(scores)))"
   ]
  },
  {
   "cell_type": "markdown",
   "metadata": {},
   "source": [
    "`Accuracy skor dengan menggunakan K Fold lebih rendah dibanding dengan train test split yaitu hanya 77.36%`"
   ]
  },
  {
   "cell_type": "markdown",
   "metadata": {},
   "source": [
    "<hr>"
   ]
  },
  {
   "cell_type": "markdown",
   "metadata": {},
   "source": [
    "#### `Support Vector Machine`"
   ]
  },
  {
   "cell_type": "markdown",
   "metadata": {},
   "source": [
    "- Training Model dengan menggunakan SVC"
   ]
  },
  {
   "cell_type": "markdown",
   "metadata": {},
   "source": [
    "`disclaimer : beberapa fitur akan di drop guna mempersingkat waktu`"
   ]
  },
  {
   "cell_type": "markdown",
   "metadata": {},
   "source": [
    "- Membuat X_train dan X_test baru"
   ]
  },
  {
   "cell_type": "code",
   "execution_count": 46,
   "metadata": {},
   "outputs": [],
   "source": [
    "X_train2 = pd.concat([X_train[numerik].reset_index(drop=True), train_location,train_RainToday], axis= 1)\n",
    "X_test2  = pd.concat([X_test[numerik].reset_index(drop=True), test_location, test_RainToday], axis= 1)"
   ]
  },
  {
   "cell_type": "markdown",
   "metadata": {},
   "source": [
    "- Melatih model SVM"
   ]
  },
  {
   "cell_type": "code",
   "execution_count": 47,
   "metadata": {},
   "outputs": [],
   "source": [
    "model = SVC(kernel='linear').fit(X_train2, y_train)"
   ]
  },
  {
   "cell_type": "markdown",
   "metadata": {},
   "source": [
    "- Menguji model / memprediksi dengan X_test"
   ]
  },
  {
   "cell_type": "code",
   "execution_count": 48,
   "metadata": {},
   "outputs": [],
   "source": [
    "y_pred = model.predict(X_test2)"
   ]
  },
  {
   "cell_type": "markdown",
   "metadata": {},
   "source": [
    "- Melihat score data"
   ]
  },
  {
   "cell_type": "code",
   "execution_count": 56,
   "metadata": {},
   "outputs": [
    {
     "name": "stdout",
     "output_type": "stream",
     "text": [
      "Score Data Train = 0.8714\n",
      "Score Data Test  = 0.8709\n"
     ]
    }
   ],
   "source": [
    "print('Score Data Train = {:.4f}'.format(model.score(X_train2, y_train)))\n",
    "print('Score Data Test  = {:.4f}'.format(model.score(X_test2, y_test)))"
   ]
  },
  {
   "cell_type": "markdown",
   "metadata": {},
   "source": [
    "`berdasarkan dari score data train dan test, terlihat bahwa model tidak overfitting dimana hasil skor score Data Train (0.8714) > score Data Test (0.8709)`"
   ]
  },
  {
   "cell_type": "markdown",
   "metadata": {},
   "source": [
    "- Evaluasi hasil model Support Vector Machine dengan <code>accuracy_score()</code> untuk <i>train set</i> dan <i>test set</i>-nya."
   ]
  },
  {
   "cell_type": "code",
   "execution_count": 51,
   "metadata": {},
   "outputs": [
    {
     "name": "stdout",
     "output_type": "stream",
     "text": [
      "Train set Accuracy: 0.8714\n",
      "Test set Accuracy: 0.8709\n"
     ]
    }
   ],
   "source": [
    "print('Train set Accuracy: %.4f' % accuracy_score(y_train, model.predict(X_train2)))\n",
    "print('Test set Accuracy: %.4f' % accuracy_score(y_test, y_pred))"
   ]
  },
  {
   "cell_type": "markdown",
   "metadata": {},
   "source": [
    "Seperti yang dapat kita lihat, hasil akurasi untuk <i>data test</i> sekitar __0.8709__, sementara untuk <i>data train</i> sekitar __0.8714__.\n",
    "\n",
    "`Model Support Vector Machine ini mampu memprediksi cuaca dengan akurasi sekitar 87.09%`"
   ]
  },
  {
   "cell_type": "markdown",
   "metadata": {},
   "source": [
    "<hr>"
   ]
  },
  {
   "cell_type": "markdown",
   "metadata": {},
   "source": [
    "## Kesimpulan\n",
    "\n",
    "`Hasil accuracy tes dari setiap test :`\n",
    "\n",
    "- `Akurasi Model Logistic Regression: 87.34%`\n",
    "- `Akurasi Model SVM: 87.09%`\n",
    "\n",
    "`Berdasarkan accuracy test dari kedua model, diketahui bahwa Model Logistic Regression lebih baik daripada Model SVM`\n",
    "\n"
   ]
  },
  {
   "cell_type": "markdown",
   "metadata": {},
   "source": [
    "<hr>"
   ]
  },
  {
   "cell_type": "markdown",
   "metadata": {},
   "source": [
    "## Model Inference"
   ]
  },
  {
   "cell_type": "markdown",
   "metadata": {},
   "source": [
    "- Menguji model dengan membuat 10 random data secara acak dari gabungan X_train dan X_test"
   ]
  },
  {
   "cell_type": "code",
   "execution_count": 95,
   "metadata": {},
   "outputs": [],
   "source": [
    "coba = pd.concat([X_test.sample(10000), X_train.sample(10000)])\n",
    "coba2 = pd.concat([X_test2.sample(10000), X_train2.sample(10000)])"
   ]
  },
  {
   "cell_type": "code",
   "execution_count": 99,
   "metadata": {},
   "outputs": [],
   "source": [
    "dummy = coba.sample(10)\n",
    "dummy2 = coba2.sample(10)"
   ]
  },
  {
   "cell_type": "markdown",
   "metadata": {},
   "source": [
    "- Uji Data dengan model"
   ]
  },
  {
   "cell_type": "markdown",
   "metadata": {},
   "source": [
    "    1. Logistic Regression"
   ]
  },
  {
   "cell_type": "code",
   "execution_count": 97,
   "metadata": {},
   "outputs": [
    {
     "name": "stdout",
     "output_type": "stream",
     "text": [
      "['No' 'No' 'No' 'No' 'No' 'No' 'No' 'No' 'No' 'No']\n"
     ]
    }
   ],
   "source": [
    "dummy_loreg = logreg.predict(dummy)\n",
    "print(dummy_loreg)"
   ]
  },
  {
   "cell_type": "markdown",
   "metadata": {},
   "source": [
    "    2. SVM"
   ]
  },
  {
   "cell_type": "code",
   "execution_count": 101,
   "metadata": {},
   "outputs": [
    {
     "name": "stdout",
     "output_type": "stream",
     "text": [
      "['No' 'No' 'No' 'No' 'No' 'No' 'No' 'No' 'No' 'No']\n"
     ]
    }
   ],
   "source": [
    "dummy_svm = model.predict(dummy2)\n",
    "print(dummy_svm)"
   ]
  }
 ],
 "metadata": {
  "interpreter": {
   "hash": "6d260c93fe108ed97f4a63214c8644960b32a7056e9114e087715075082f9a3d"
  },
  "kernelspec": {
   "display_name": "Python 3.9.9 64-bit",
   "language": "python",
   "name": "python3"
  },
  "language_info": {
   "codemirror_mode": {
    "name": "ipython",
    "version": 3
   },
   "file_extension": ".py",
   "mimetype": "text/x-python",
   "name": "python",
   "nbconvert_exporter": "python",
   "pygments_lexer": "ipython3",
   "version": "3.9.9"
  },
  "orig_nbformat": 4
 },
 "nbformat": 4,
 "nbformat_minor": 2
}
